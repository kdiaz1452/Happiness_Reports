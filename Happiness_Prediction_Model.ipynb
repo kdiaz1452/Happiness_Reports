{
 "cells": [
  {
   "cell_type": "code",
   "execution_count": 9,
   "id": "05831b89-dcd1-4371-b11a-4ff4de7a8df6",
   "metadata": {},
   "outputs": [],
   "source": [
    "import pandas as pd\n",
    "import os\n",
    "from sklearn.model_selection import train_test_split\n",
    "from sklearn.linear_model import LinearRegression\n",
    "from sklearn.model_selection import train_test_split, GridSearchCV\n",
    "from sklearn.ensemble import RandomForestRegressor\n",
    "from sklearn.metrics import mean_squared_error, r2_score, classification_report"
   ]
  },
  {
   "cell_type": "code",
   "execution_count": 10,
   "id": "b8daf2aa-4731-4247-9e86-a4f6a720fa47",
   "metadata": {},
   "outputs": [],
   "source": [
    "# Set the base directory path\n",
    "base_directory = r'C:\\Users\\kdiaz\\OneDrive\\Documents\\Personal\\Random Code\\Happiness_Reports'\n",
    "\n",
    "# Set the CSV file name and folder\n",
    "csv_folder = 'clean_data'\n",
    "csv_file_name = 'combined_data.csv'\n",
    "\n",
    "# Create the full path to the CSV file\n",
    "csv_file_path = os.path.abspath(os.path.join(base_directory, csv_folder, csv_file_name))\n",
    "\n",
    "# Read the CSV file into a DataFrame\n",
    "df = pd.read_csv(csv_file_path)"
   ]
  },
  {
   "cell_type": "code",
   "execution_count": 13,
   "id": "c35741c4-967e-45d1-a08e-f2e11a0c6aba",
   "metadata": {},
   "outputs": [
    {
     "name": "stdout",
     "output_type": "stream",
     "text": [
      "Mean Squared Error (MSE): 0.26192578037303643\n",
      "Root Mean Squared Error (RMSE): 0.5117868505276747\n",
      "Mean Absolute Error (MAE): 0.404923410952625\n",
      "R-squared (R²): 0.7863266966301489\n"
     ]
    }
   ],
   "source": [
    "df.dropna(inplace=True)\n",
    "\n",
    "# Define features and target\n",
    "features = ['GDP_Per_Capita', 'Social_Support', 'Freedom_To_Make_Life_Choices', 'Healthy_Life_Expectancy', 'Generosity', 'Perceptions_Of_Corruption']\n",
    "target = 'Happiness_Score'\n",
    "\n",
    "X = df[features]\n",
    "y = df[target]\n",
    "\n",
    "# Split the data into training and testing sets\n",
    "X_train, X_test, y_train, y_test = train_test_split(X, y, test_size=0.2, random_state=42)\n",
    "\n",
    "# Define the Random Forest model\n",
    "rf_model = RandomForestRegressor(n_estimators=100, random_state=42)  # Example with 100 estimators\n",
    "rf_model.fit(X_train, y_train)\n",
    "\n",
    "# Predict on the test set\n",
    "y_pred = rf_model.predict(X_test)\n",
    "\n",
    "# Calculate evaluation metrics\n",
    "mse = metrics.mean_squared_error(y_test, y_pred)\n",
    "rmse = metrics.root_mean_squared_error(y_test, y_pred)  # Using root_mean_squared_error for RMSE\n",
    "mae = metrics.mean_absolute_error(y_test, y_pred)\n",
    "r2 = metrics.r2_score(y_test, y_pred)\n",
    "\n",
    "print('Mean Squared Error (MSE):', mse)\n",
    "print('Root Mean Squared Error (RMSE):', rmse)\n",
    "print('Mean Absolute Error (MAE):', mae)\n",
    "print('R-squared (R²):', r2)"
   ]
  },
  {
   "cell_type": "code",
   "execution_count": 14,
   "id": "b5ff081d-2c9b-4967-ae0d-ef6274ef396d",
   "metadata": {},
   "outputs": [
    {
     "name": "stdout",
     "output_type": "stream",
     "text": [
      "      GDP_Per_Capita  Social_Support  Freedom_To_Make_Life_Choices  \\\n",
      "1085        1.936000        1.320000                      0.718000   \n",
      "931         0.425564        1.047835                      0.377405   \n",
      "277         0.953950        0.498130                      0.188470   \n",
      "900         0.178741        0.955203                      0.560775   \n",
      "938         1.501000        1.079000                      0.647000   \n",
      "...              ...             ...                           ...   \n",
      "1157        1.573000        1.023000                      0.460000   \n",
      "936         1.566000        1.079000                      0.653000   \n",
      "919         0.240560        0.747985                      0.382028   \n",
      "243         1.034370        0.813290                      0.157180   \n",
      "361         0.786441        1.548969                      0.658249   \n",
      "\n",
      "      Healthy_Life_Expectancy  Generosity  Perceptions_Of_Corruption  \n",
      "1085                 0.803000    0.270000                   0.191000  \n",
      "931                  0.375038    0.151349                   0.080929  \n",
      "277                  0.521160    0.127060                   0.103930  \n",
      "900                  0.324224    0.220422                   0.163064  \n",
      "938                  0.753000    0.302000                   0.384000  \n",
      "...                       ...         ...                        ...  \n",
      "1157                 0.659000    0.135000                   0.077000  \n",
      "936                  0.816000    0.204000                   0.413000  \n",
      "919                  0.203954    0.257647                   0.047941  \n",
      "243                  0.645800    0.207370                   0.043390  \n",
      "361                  0.498273    0.415984                   0.246528  \n",
      "\n",
      "[273 rows x 6 columns]\n",
      "[6.89930301 4.35971201 4.753593   4.48824599 7.12019399 5.17611002\n",
      " 4.90688201 3.15128    3.93560704 4.328496   4.203046   4.98031998\n",
      " 4.81785499 6.69067996 4.70172599 4.43146999 5.955723   4.69178401\n",
      " 4.958702   4.80147901 5.89764799 5.66987201 4.42017299 6.309708\n",
      " 7.30288002 4.396411   6.23063099 6.75902901 6.068447   4.19408799\n",
      " 4.64156499 5.03958198 4.809304   6.16137898 4.50987897 5.65806997\n",
      " 5.01133001 3.78256299 5.199797   6.278176   6.11003199 5.14033099\n",
      " 5.58671    5.122562   5.513628   4.321404   4.39775101 4.92297\n",
      " 6.426639   5.760253   7.13851799 5.79045701 5.60375    6.311341\n",
      " 6.289063   4.222162   4.53305602 5.45875699 4.07603205 6.40837699\n",
      " 6.21072    5.16662501 4.757761   5.11438099 4.62036601 4.482395\n",
      " 3.65814399 4.46181    4.90096601 5.33330401 4.18315703 6.611054\n",
      " 6.40659    6.15027996 4.375544   5.288      5.72364301 4.42740601\n",
      " 5.14689402 6.25724    4.37190999 5.730809   6.56713601 4.57304601\n",
      " 4.52083901 5.404256   7.289214   6.99448499 6.24295797 5.68054397\n",
      " 6.342173   4.67395    5.61588    4.52446998 4.33336599 5.919192\n",
      " 6.369082   4.408257   3.27531399 4.90203801 4.835448   6.98486\n",
      " 3.928164   5.34942799 5.174475   6.19164099 7.281388   5.090638\n",
      " 5.01038802 4.01057101 4.36547202 4.970302   4.27873701 4.202233\n",
      " 7.40429199 5.409232   6.19137099 5.817591   5.35179199 5.047698\n",
      " 5.10915    6.570165   6.84243    6.53559599 6.80519    7.25503399\n",
      " 5.326518   4.26745401 4.54025001 7.158386   4.64886899 5.497429\n",
      " 5.75771199 4.50850096 6.308122   4.83477698 5.53377497 5.87553501\n",
      " 4.18642201 6.27921101 5.812396   6.136942   4.40314397 4.683521\n",
      " 6.29936799 7.435789   4.15431599 4.772227   4.48494199 5.77150599\n",
      " 5.495684   6.035006   7.27902101 4.83445801 5.90534599 4.066709\n",
      " 5.726675   4.11028499 6.73866599 4.67650799 4.50875    4.76181898\n",
      " 4.91542801 4.33056    5.83063103 5.49833302 4.542613   4.72796899\n",
      " 6.11675502 6.14089    4.37128099 5.01483102 4.865877   5.647426\n",
      " 6.00152102 3.434323   4.492846   3.4145     5.93152099 6.72807199\n",
      " 6.98496201 5.78326801 5.52432998 5.64551099 6.97689398 4.78182201\n",
      " 6.09517    4.267194   6.242141   6.64204301 4.764654   4.116894\n",
      " 5.865768   4.84931205 4.01420998 7.424292   4.60913    7.33769497\n",
      " 4.577656   5.79400703 4.13845    4.34522301 5.76957101 5.04095699\n",
      " 5.78436801 4.410082   6.336819   4.833162   4.25669998 5.68480099\n",
      " 6.218361   4.43521199 6.32094799 4.52106    5.55973799 3.65513898\n",
      " 6.19634    6.20158601 5.07424    4.04808501 3.03977901 7.24689201\n",
      " 6.46637501 5.934257   6.533958   3.09994    4.34342601 4.502299\n",
      " 6.291699   5.227453   4.24356299 5.842608   6.963098   5.45826199\n",
      " 4.62062199 5.81257299 5.01397898 4.32973699 5.19558399 5.30606701\n",
      " 6.04201699 5.03876099 3.40931    5.15063001 5.84066    5.34784\n",
      " 5.883878   6.315736   5.78190699 4.666077   4.42750099 4.36398502\n",
      " 5.358633   4.36877199 5.999612   5.75269001 6.07936501 6.367371\n",
      " 5.79697101 6.770358   4.227005   5.85127    4.93196398 7.10253099\n",
      " 4.66239599 3.54673399 4.73399202 4.42606001 6.234021   7.054096\n",
      " 4.24807999 4.945498   5.153547  ]\n"
     ]
    }
   ],
   "source": [
    "print(X_test)\n",
    "print(y_pred)"
   ]
  },
  {
   "cell_type": "code",
   "execution_count": null,
   "id": "c63a2888-d24f-4522-aa3a-f2dcc64fe538",
   "metadata": {},
   "outputs": [],
   "source": []
  }
 ],
 "metadata": {
  "kernelspec": {
   "display_name": "Python 3 (ipykernel)",
   "language": "python",
   "name": "python3"
  },
  "language_info": {
   "codemirror_mode": {
    "name": "ipython",
    "version": 3
   },
   "file_extension": ".py",
   "mimetype": "text/x-python",
   "name": "python",
   "nbconvert_exporter": "python",
   "pygments_lexer": "ipython3",
   "version": "3.11.9"
  }
 },
 "nbformat": 4,
 "nbformat_minor": 5
}
