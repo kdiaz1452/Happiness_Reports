{
 "cells": [
  {
   "cell_type": "code",
   "execution_count": 9,
   "id": "05831b89-dcd1-4371-b11a-4ff4de7a8df6",
   "metadata": {},
   "outputs": [],
   "source": [
    "import pandas as pd\n",
    "import os\n",
    "from sklearn.model_selection import train_test_split\n",
    "from sklearn.linear_model import LinearRegression\n",
    "from sklearn.model_selection import train_test_split, GridSearchCV\n",
    "from sklearn.ensemble import RandomForestRegressor\n",
    "from sklearn.metrics import mean_squared_error, r2_score, classification_report"
   ]
  },
  {
   "cell_type": "code",
   "execution_count": 10,
   "id": "b8daf2aa-4731-4247-9e86-a4f6a720fa47",
   "metadata": {},
   "outputs": [],
   "source": [
    "# Set the base directory path\n",
    "base_directory = r'C:\\Users\\kdiaz\\OneDrive\\Documents\\Personal\\Random Code\\Happiness_Reports'\n",
    "\n",
    "# Set the CSV file name and folder\n",
    "csv_folder = 'clean_data'\n",
    "csv_file_name = 'combined_data.csv'\n",
    "\n",
    "# Create the full path to the CSV file\n",
    "csv_file_path = os.path.abspath(os.path.join(base_directory, csv_folder, csv_file_name))\n",
    "\n",
    "# Read the CSV file into a DataFrame\n",
    "df = pd.read_csv(csv_file_path)"
   ]
  },
  {
   "cell_type": "code",
   "execution_count": 13,
   "id": "c35741c4-967e-45d1-a08e-f2e11a0c6aba",
   "metadata": {},
   "outputs": [
    {
     "name": "stdout",
     "output_type": "stream",
     "text": [
      "Mean Squared Error (MSE): 0.26192578037303643\n",
      "Root Mean Squared Error (RMSE): 0.5117868505276747\n",
      "Mean Absolute Error (MAE): 0.404923410952625\n",
      "R-squared (R²): 0.7863266966301489\n"
     ]
    }
   ],
   "source": [
    "df.dropna(inplace=True)\n",
    "\n",
    "# Define features and target\n",
    "features = ['GDP_Per_Capita', 'Social_Support', 'Freedom_To_Make_Life_Choices', 'Healthy_Life_Expectancy', 'Generosity', 'Perceptions_Of_Corruption']\n",
    "target = 'Happiness_Score'\n",
    "\n",
    "X = df[features]\n",
    "y = df[target]\n",
    "\n",
    "# Split the data into training and testing sets\n",
    "X_train, X_test, y_train, y_test = train_test_split(X, y, test_size=0.2, random_state=42)\n",
    "\n",
    "# Define the Random Forest model\n",
    "rf_model = RandomForestRegressor(n_estimators=100, random_state=42)  # Example with 100 estimators\n",
    "rf_model.fit(X_train, y_train)\n",
    "\n",
    "# Predict on the test set\n",
    "y_pred = rf_model.predict(X_test)\n",
    "\n",
    "# Calculate evaluation metrics\n",
    "mse = metrics.mean_squared_error(y_test, y_pred)\n",
    "rmse = metrics.root_mean_squared_error(y_test, y_pred)  # Using root_mean_squared_error for RMSE\n",
    "mae = metrics.mean_absolute_error(y_test, y_pred)\n",
    "r2 = metrics.r2_score(y_test, y_pred)\n",
    "\n",
    "print('Mean Squared Error (MSE):', mse)\n",
    "print('Root Mean Squared Error (RMSE):', rmse)\n",
    "print('Mean Absolute Error (MAE):', mae)\n",
    "print('R-squared (R²):', r2)"
   ]
  },
  {
   "cell_type": "code",
   "execution_count": null,
   "id": "867a2dff-8e47-4bb5-9fcf-9178180cb25e",
   "metadata": {},
   "outputs": [],
   "source": []
  }
 ],
 "metadata": {
  "kernelspec": {
   "display_name": "Python 3 (ipykernel)",
   "language": "python",
   "name": "python3"
  },
  "language_info": {
   "codemirror_mode": {
    "name": "ipython",
    "version": 3
   },
   "file_extension": ".py",
   "mimetype": "text/x-python",
   "name": "python",
   "nbconvert_exporter": "python",
   "pygments_lexer": "ipython3",
   "version": "3.11.9"
  }
 },
 "nbformat": 4,
 "nbformat_minor": 5
}
